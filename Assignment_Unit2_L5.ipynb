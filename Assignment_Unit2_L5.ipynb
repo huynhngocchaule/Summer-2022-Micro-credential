{
  "nbformat": 4,
  "nbformat_minor": 0,
  "metadata": {
    "colab": {
      "name": "Assignment Unit2 L5.ipynb",
      "provenance": [],
      "collapsed_sections": []
    },
    "kernelspec": {
      "name": "python3",
      "display_name": "Python 3"
    },
    "language_info": {
      "name": "python"
    }
  },
  "cells": [
    {
      "cell_type": "markdown",
      "source": [
        "1. Make a list of 5 or more usernames, including an admin account. Imagine you are writing code\n",
        "that will welcome people to your application on login. Loop through the list and print your\n",
        "greeting.\n",
        "a. If the admin account logs in, give them a special greeting. They’re the admin, after all!\n",
        "b. Other users can get the generic greeting\n",
        "\n",
        "\n"
      ],
      "metadata": {
        "id": "egPcee87kM12"
      }
    },
    {
      "cell_type": "code",
      "source": [
        "user_names = [\"user1\", \"user2\", \"user3\", \"user4\", \"admin\"]\n",
        "for name in user_names:\n",
        "  if name == \"admin\":\n",
        "    print(\"Hello Admin!\")\n",
        "  else:\n",
        "    print(\"Hi there!\")"
      ],
      "metadata": {
        "colab": {
          "base_uri": "https://localhost:8080/"
        },
        "id": "x8lBPiq8khKw",
        "outputId": "40f025ef-90c4-4237-a28f-721a65be6592"
      },
      "execution_count": 2,
      "outputs": [
        {
          "output_type": "stream",
          "name": "stdout",
          "text": [
            "Hi there!\n",
            "Hi there!\n",
            "Hi there!\n",
            "Hi there!\n",
            "Hello Admin!\n"
          ]
        }
      ]
    },
    {
      "cell_type": "markdown",
      "source": [
        "2. Store numbers 1-10 in a list\n",
        "a. Loop through the list\n",
        "b. Use an if-elif-else chain inside your loop to print the ordinal ending for each number –\n",
        "for example – 1 st , 2 nd , 3 rd … etc."
      ],
      "metadata": {
        "id": "hJpOBZIpkPDJ"
      }
    },
    {
      "cell_type": "code",
      "source": [
        "numbers = range(1,11)\n",
        "for num in numbers:\n",
        "  if num == 1:\n",
        "    print(str(num) + \"st\")\n",
        "  elif num == 2:\n",
        "    print(str(num) + \"nd\")\n",
        "  elif num == 3:\n",
        "    print(str(num) + \"rd\")\n",
        "  else: \n",
        "    print(str(num) + \"th\")\n"
      ],
      "metadata": {
        "colab": {
          "base_uri": "https://localhost:8080/"
        },
        "id": "eIEKmZRtriPB",
        "outputId": "1524a0bd-fe3c-468f-88d9-7f7330a4b476"
      },
      "execution_count": 5,
      "outputs": [
        {
          "output_type": "stream",
          "name": "stdout",
          "text": [
            "1st\n",
            "2nd\n",
            "3rd\n",
            "4th\n",
            "5th\n",
            "6th\n",
            "7th\n",
            "8th\n",
            "9th\n",
            "10th\n"
          ]
        }
      ]
    }
  ]
}