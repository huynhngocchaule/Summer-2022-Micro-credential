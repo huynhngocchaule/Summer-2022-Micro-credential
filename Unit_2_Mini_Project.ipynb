{
  "nbformat": 4,
  "nbformat_minor": 0,
  "metadata": {
    "colab": {
      "name": "Unit 2 Mini Project.ipynb",
      "provenance": [],
      "authorship_tag": "ABX9TyO2kgPDsf/whuXjsYeXJhXS",
      "include_colab_link": true
    },
    "kernelspec": {
      "name": "python3",
      "display_name": "Python 3"
    },
    "language_info": {
      "name": "python"
    }
  },
  "cells": [
    {
      "cell_type": "markdown",
      "metadata": {
        "id": "view-in-github",
        "colab_type": "text"
      },
      "source": [
        "<a href=\"https://colab.research.google.com/github/huynhngocchaule/Summer-2022-Micro-credential-Python/blob/main/Unit_2_Mini_Project.ipynb\" target=\"_parent\"><img src=\"https://colab.research.google.com/assets/colab-badge.svg\" alt=\"Open In Colab\"/></a>"
      ]
    },
    {
      "cell_type": "markdown",
      "source": [
        "Ask the user for a number. Depending on whether the number is even or odd, print out an\n",
        "appropriate message to the user. Hint: how does an even / odd number react differently\n",
        "when divided by 2?\n",
        "\n",
        "Bonus:\n",
        "\n",
        "If the number is a multiple of 4, print out a different message.\n",
        "\n",
        "Ask the user for two numbers: one number to check (call it num) and one number to divide\n",
        "by (check). If check divides evenly into num, tell that to the user. If not, print a different\n",
        "appropriate message.\n",
        "\n",
        "Write a custom function for finding whether the number is even or odd and call it in your\n",
        "main program code.\n"
      ],
      "metadata": {
        "id": "T62OhYb67Qca"
      }
    },
    {
      "cell_type": "code",
      "source": [
        "num = int(input(\"Enter a number: \"))\n",
        "mod = num % 2\n",
        "if mod > 0:\n",
        "  print(\"This is an odd number.\")\n",
        "else:\n",
        "  print(\"This is an even number.\")\n",
        "if num % 4 == 0:\n",
        "  print(num, \"is a multiple of 4\")"
      ],
      "metadata": {
        "id": "-udBqT4b7Xey",
        "colab": {
          "base_uri": "https://localhost:8080/"
        },
        "outputId": "9071c5a8-16aa-4a9a-a66a-881f40d1916d"
      },
      "execution_count": 4,
      "outputs": [
        {
          "output_type": "stream",
          "name": "stdout",
          "text": [
            "Enter a number: 12\n",
            "This is an even number.\n",
            "12 is a multiple of 4\n"
          ]
        }
      ]
    }
  ]
}