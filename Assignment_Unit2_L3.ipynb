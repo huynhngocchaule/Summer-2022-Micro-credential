{
  "nbformat": 4,
  "nbformat_minor": 0,
  "metadata": {
    "colab": {
      "name": "Assignment Unit2 L3.ipynb",
      "provenance": [],
      "collapsed_sections": []
    },
    "kernelspec": {
      "name": "python3",
      "display_name": "Python 3"
    },
    "language_info": {
      "name": "python"
    }
  },
  "cells": [
    {
      "cell_type": "markdown",
      "source": [
        "1. Create a list of 5 of your favorite tv shows."
      ],
      "metadata": {
        "id": "8fEMe8TE5Ke1"
      }
    },
    {
      "cell_type": "code",
      "source": [
        "tv_shows = [\"Game of Thrones\",\"Stranger Things\",\"Planet Earth\",\"Breaking Bad\",\"Riverdale\"]"
      ],
      "metadata": {
        "id": "a8dYC4-1HCCw"
      },
      "execution_count": 45,
      "outputs": []
    },
    {
      "cell_type": "markdown",
      "source": [
        "2. Print the list in its original order."
      ],
      "metadata": {
        "id": "UyL4D5kC5Nsv"
      }
    },
    {
      "cell_type": "code",
      "source": [
        "print(tv_shows)"
      ],
      "metadata": {
        "colab": {
          "base_uri": "https://localhost:8080/"
        },
        "id": "UlWRbm18Lmc7",
        "outputId": "917faea7-3793-42a3-8f08-a3c2d976a2c9"
      },
      "execution_count": 46,
      "outputs": [
        {
          "output_type": "stream",
          "name": "stdout",
          "text": [
            "['Game of Thrones', 'Stranger Things', 'Planet Earth', 'Breaking Bad', 'Riverdale']\n"
          ]
        }
      ]
    },
    {
      "cell_type": "markdown",
      "source": [
        "3. Use the sorted() function to print the list in alphabetical order. How is sorted() different from\n",
        "sort()?\n"
      ],
      "metadata": {
        "id": "60mCQ5p55RGe"
      }
    },
    {
      "cell_type": "markdown",
      "source": [
        "The primary difference between the list sort() function and the sorted() function is that the sort() function will modify the list it is called on. The sorted() function will create a new list containing a sorted version of the list it is given. The sorted() function will not modify the list passed as a parameter.\n"
      ],
      "metadata": {
        "id": "aWbGW1SGM-Ew"
      }
    },
    {
      "cell_type": "code",
      "source": [
        "print(sorted(tv_shows))"
      ],
      "metadata": {
        "colab": {
          "base_uri": "https://localhost:8080/"
        },
        "id": "KQ6A6T3sMv-x",
        "outputId": "9588ee9a-8c36-4bb3-9941-021198bcf01f"
      },
      "execution_count": 47,
      "outputs": [
        {
          "output_type": "stream",
          "name": "stdout",
          "text": [
            "['Breaking Bad', 'Game of Thrones', 'Planet Earth', 'Riverdale', 'Stranger Things']\n"
          ]
        }
      ]
    },
    {
      "cell_type": "markdown",
      "source": [
        "4. Print out your original list."
      ],
      "metadata": {
        "id": "F47DdxZV5lXG"
      }
    },
    {
      "cell_type": "code",
      "source": [
        "print(tv_shows)"
      ],
      "metadata": {
        "colab": {
          "base_uri": "https://localhost:8080/"
        },
        "id": "6rTMBJ2_Omvc",
        "outputId": "cb6e5f8e-1e6f-42c7-c425-e336f0f6584a"
      },
      "execution_count": 48,
      "outputs": [
        {
          "output_type": "stream",
          "name": "stdout",
          "text": [
            "['Game of Thrones', 'Stranger Things', 'Planet Earth', 'Breaking Bad', 'Riverdale']\n"
          ]
        }
      ]
    },
    {
      "cell_type": "markdown",
      "source": [
        "5. Used sorted() to print your list in reverse alphabetical order.\n"
      ],
      "metadata": {
        "id": "G48kLEe85noc"
      }
    },
    {
      "cell_type": "code",
      "source": [
        "print(sorted(tv_shows, reverse=True))"
      ],
      "metadata": {
        "colab": {
          "base_uri": "https://localhost:8080/"
        },
        "id": "2hNewyQzPIwr",
        "outputId": "a57c7933-aa6c-446f-ca23-76308e8f0ab7"
      },
      "execution_count": 49,
      "outputs": [
        {
          "output_type": "stream",
          "name": "stdout",
          "text": [
            "['Stranger Things', 'Riverdale', 'Planet Earth', 'Game of Thrones', 'Breaking Bad']\n"
          ]
        }
      ]
    },
    {
      "cell_type": "markdown",
      "source": [
        "6. Create a message indicating how many favorite TV shows you have – use the len() function."
      ],
      "metadata": {
        "id": "Owqi067s5p1f"
      }
    },
    {
      "cell_type": "code",
      "source": [
        "len(tv_shows)\n",
        "print(\"I have \" + str(len(tv_shows)) + \" favorite TV shows\" )"
      ],
      "metadata": {
        "colab": {
          "base_uri": "https://localhost:8080/"
        },
        "id": "C2RmeZiS5sWq",
        "outputId": "f4724e9a-c06c-4b6a-d69f-0c7587886960"
      },
      "execution_count": 52,
      "outputs": [
        {
          "output_type": "stream",
          "name": "stdout",
          "text": [
            "I have 5 favorite TV shows\n"
          ]
        }
      ]
    }
  ]
}