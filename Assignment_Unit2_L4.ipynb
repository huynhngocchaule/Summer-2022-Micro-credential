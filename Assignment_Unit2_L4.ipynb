{
  "nbformat": 4,
  "nbformat_minor": 0,
  "metadata": {
    "colab": {
      "name": "Assignment Unit2 L4.ipynb",
      "provenance": [],
      "collapsed_sections": []
    },
    "kernelspec": {
      "name": "python3",
      "display_name": "Python 3"
    },
    "language_info": {
      "name": "python"
    }
  },
  "cells": [
    {
      "cell_type": "markdown",
      "source": [
        "1. Create a list that holds 5 data variables.\n",
        "\n",
        "2. Print out those variables by using a for loop.\n",
        "\n",
        "3. Modify your for loop to add a message to your for loop.\n",
        "\n",
        "4. Use a for loop to print even numbers from 1-20.\n",
        "\n",
        "5. Sort your list in alphabetic order.\n",
        "\n",
        "6. Print out the first three elements of your list.\n",
        "\n",
        "7. Create a loop to print the last 2 elements of your list."
      ],
      "metadata": {
        "id": "egHBU7QctR2i"
      }
    },
    {
      "cell_type": "code",
      "source": [
        "#1 & 2\n",
        "favorite_food = [\"pho\", \"noodle soup\", \"pizza\", \"frozen yogurt\", \"banh mi\"]\n",
        "for food in favorite_food:\n",
        "  print(food)"
      ],
      "metadata": {
        "colab": {
          "base_uri": "https://localhost:8080/"
        },
        "id": "RQP2QMA4tYDT",
        "outputId": "d4bbf2a3-c6ef-4b95-c763-aff6b077651e"
      },
      "execution_count": 12,
      "outputs": [
        {
          "output_type": "stream",
          "name": "stdout",
          "text": [
            "pho\n",
            "noodle soup\n",
            "pizza\n",
            "frozen yogurt\n",
            "banh mi\n"
          ]
        }
      ]
    },
    {
      "cell_type": "code",
      "source": [
        "#3\n",
        "for food in favorite_food:\n",
        "  print(food.title() + \" is my favorite food.\")"
      ],
      "metadata": {
        "colab": {
          "base_uri": "https://localhost:8080/"
        },
        "id": "VXq8aVS3g_vM",
        "outputId": "df7123e0-1e7d-4274-eda7-4798aa50a03c"
      },
      "execution_count": 13,
      "outputs": [
        {
          "output_type": "stream",
          "name": "stdout",
          "text": [
            "Pho is my favorite food.\n",
            "Noodle Soup is my favorite food.\n",
            "Pizza is my favorite food.\n",
            "Frozen Yogurt is my favorite food.\n",
            "Banh Mi is my favorite food.\n"
          ]
        }
      ]
    },
    {
      "cell_type": "code",
      "source": [
        "#4\n",
        "num = range(1,20,2)\n",
        "for x in num:\n",
        "  print(x + 1)"
      ],
      "metadata": {
        "colab": {
          "base_uri": "https://localhost:8080/"
        },
        "id": "tti0AGbqhKW7",
        "outputId": "c447f0e4-102f-4657-e40b-4711f919ebe3"
      },
      "execution_count": 14,
      "outputs": [
        {
          "output_type": "stream",
          "name": "stdout",
          "text": [
            "2\n",
            "4\n",
            "6\n",
            "8\n",
            "10\n",
            "12\n",
            "14\n",
            "16\n",
            "18\n",
            "20\n"
          ]
        }
      ]
    },
    {
      "cell_type": "code",
      "source": [
        "#5\n",
        "favorite_food.sort()\n",
        "favorite_food"
      ],
      "metadata": {
        "colab": {
          "base_uri": "https://localhost:8080/"
        },
        "id": "1cj5Kv7zh5j2",
        "outputId": "c7e5b55f-e0d9-4f4a-87ee-436233b45794"
      },
      "execution_count": 15,
      "outputs": [
        {
          "output_type": "execute_result",
          "data": {
            "text/plain": [
              "['banh mi', 'frozen yogurt', 'noodle soup', 'pho', 'pizza']"
            ]
          },
          "metadata": {},
          "execution_count": 15
        }
      ]
    },
    {
      "cell_type": "code",
      "source": [
        "#6\n",
        "print(favorite_food[0:3])"
      ],
      "metadata": {
        "colab": {
          "base_uri": "https://localhost:8080/"
        },
        "id": "PtenoVVsiKEG",
        "outputId": "073c562a-218b-4f04-da6d-d7e7e84a8c06"
      },
      "execution_count": 16,
      "outputs": [
        {
          "output_type": "stream",
          "name": "stdout",
          "text": [
            "['banh mi', 'frozen yogurt', 'noodle soup']\n"
          ]
        }
      ]
    },
    {
      "cell_type": "code",
      "source": [
        "#7\n",
        "for food in favorite_food[-2:]:\n",
        "  print(food)"
      ],
      "metadata": {
        "colab": {
          "base_uri": "https://localhost:8080/"
        },
        "id": "ge15eo0wipBe",
        "outputId": "e5e6f7f6-0d9e-4d4e-f964-c10512fad486"
      },
      "execution_count": 17,
      "outputs": [
        {
          "output_type": "stream",
          "name": "stdout",
          "text": [
            "pho\n",
            "pizza\n"
          ]
        }
      ]
    }
  ]
}