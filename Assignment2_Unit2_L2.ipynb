{
  "nbformat": 4,
  "nbformat_minor": 0,
  "metadata": {
    "colab": {
      "name": "Assignment2_Unit2_L2.ipynb",
      "provenance": [],
      "collapsed_sections": []
    },
    "kernelspec": {
      "name": "python3",
      "display_name": "Python 3"
    },
    "language_info": {
      "name": "python"
    }
  },
  "cells": [
    {
      "cell_type": "markdown",
      "source": [
        "1. What is Python and why is it useful?\n"
      ],
      "metadata": {
        "id": "LrxaujMpxvWb"
      }
    },
    {
      "cell_type": "markdown",
      "source": [
        "Python is a general purpose, interpreted, interactive, object-oriented, and high-level programming language.\n",
        "\n"
      ],
      "metadata": {
        "id": "KuluR9ByzL5A"
      }
    },
    {
      "cell_type": "markdown",
      "source": [
        "2. Are the following variable names allowed in python?\n",
        "a. 1_message\n",
        "b. Greeting_message\n",
        "c. Message_1\n",
        "d. First name\n",
        "e. Full_name"
      ],
      "metadata": {
        "id": "WR2B0S35x7hw"
      }
    },
    {
      "cell_type": "markdown",
      "source": [
        "a. No, because variable names can not start with a number.\n",
        "b. Yes\n",
        "c. Yes\n",
        "d. No, because spaces are not allowed in variable names.\n",
        "e. Yes"
      ],
      "metadata": {
        "id": "bJuNVWPaz2X_"
      }
    },
    {
      "cell_type": "markdown",
      "source": [
        "3. Create a variable that holds the string “hello there!”\n"
      ],
      "metadata": {
        "id": "olNUAKdlx_fY"
      }
    },
    {
      "cell_type": "code",
      "source": [
        "message = \"hello there!\""
      ],
      "metadata": {
        "id": "ir7zfnlI1kpY"
      },
      "execution_count": 1,
      "outputs": []
    },
    {
      "cell_type": "markdown",
      "source": [
        "4. Create a variable for first name, last name and an email extension. Concatenating all three\n",
        "together to form an email address. For example: firstnamelastname@gmail.com\n",
        "\n"
      ],
      "metadata": {
        "id": "eRq_3FWSyJe6"
      }
    },
    {
      "cell_type": "code",
      "source": [
        "firstname = \"huynhngocchau\"\n",
        "lastname = \"le\"\n",
        "email_extension = \"@gmail.com\"\n",
        "email_address = firstname + lastname + email_extension\n",
        "print(email_address)"
      ],
      "metadata": {
        "colab": {
          "base_uri": "https://localhost:8080/"
        },
        "id": "B4GLEHhP1qpK",
        "outputId": "901ece6d-3c24-4566-b4d7-b61188b68ffc"
      },
      "execution_count": 2,
      "outputs": [
        {
          "output_type": "stream",
          "name": "stdout",
          "text": [
            "huynhngocchaule@gmail.com\n"
          ]
        }
      ]
    },
    {
      "cell_type": "markdown",
      "source": [
        "5. Store someone you know name in a variable called name. Print their name in lower and\n",
        "uppercase using a method.\n"
      ],
      "metadata": {
        "id": "sw-Az0ivyLEa"
      }
    },
    {
      "cell_type": "code",
      "source": [
        "name = \"KhanhHuang\"\n",
        "print(name.upper())\n",
        "print(name.lower())"
      ],
      "metadata": {
        "colab": {
          "base_uri": "https://localhost:8080/"
        },
        "id": "hJDwfIc22MLK",
        "outputId": "e245bf07-1e2a-4ab6-a11a-85b26538d8c2"
      },
      "execution_count": 3,
      "outputs": [
        {
          "output_type": "stream",
          "name": "stdout",
          "text": [
            "KHANHHUANG\n",
            "khanhhuang\n"
          ]
        }
      ]
    },
    {
      "cell_type": "markdown",
      "source": [
        "6. Using a variable, ask your friend if they want to hang out on the 15 th of the month. For example,\n",
        "“Do you want to hang out on the 15 th of this month?” You should have to convert the number\n",
        "to a string.\n"
      ],
      "metadata": {
        "id": "IlRgtPjWyNfJ"
      }
    },
    {
      "cell_type": "code",
      "source": [
        "day = 15\n",
        "print (\"Do you want to hang out on the \"+ str(day) + \"th of this month?\")"
      ],
      "metadata": {
        "colab": {
          "base_uri": "https://localhost:8080/"
        },
        "id": "ylG90dEfx1eH",
        "outputId": "e8f3d0a9-a0cf-4abb-c509-5f559ddac917"
      },
      "execution_count": 4,
      "outputs": [
        {
          "output_type": "stream",
          "name": "stdout",
          "text": [
            "Do you want to hang out on the 15th of this month?\n"
          ]
        }
      ]
    }
  ]
}